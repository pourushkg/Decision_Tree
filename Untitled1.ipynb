{
 "cells": [
  {
   "cell_type": "code",
   "execution_count": 17,
   "id": "899f8167",
   "metadata": {},
   "outputs": [],
   "source": [
    "import pandas as pd \n",
    "import numpy as np \n",
    "from sklearn.model_selection import train_test_split"
   ]
  },
  {
   "cell_type": "code",
   "execution_count": 18,
   "id": "0a841803",
   "metadata": {},
   "outputs": [],
   "source": [
    "df=pd.read_csv(\"airfoil_self_noise.dat\",sep=\"\\t\",header=None)"
   ]
  },
  {
   "cell_type": "code",
   "execution_count": 19,
   "id": "0433df26",
   "metadata": {},
   "outputs": [
    {
     "data": {
      "text/html": [
       "<div>\n",
       "<style scoped>\n",
       "    .dataframe tbody tr th:only-of-type {\n",
       "        vertical-align: middle;\n",
       "    }\n",
       "\n",
       "    .dataframe tbody tr th {\n",
       "        vertical-align: top;\n",
       "    }\n",
       "\n",
       "    .dataframe thead th {\n",
       "        text-align: right;\n",
       "    }\n",
       "</style>\n",
       "<table border=\"1\" class=\"dataframe\">\n",
       "  <thead>\n",
       "    <tr style=\"text-align: right;\">\n",
       "      <th></th>\n",
       "      <th>0</th>\n",
       "      <th>1</th>\n",
       "      <th>2</th>\n",
       "      <th>3</th>\n",
       "      <th>4</th>\n",
       "      <th>5</th>\n",
       "    </tr>\n",
       "  </thead>\n",
       "  <tbody>\n",
       "    <tr>\n",
       "      <th>0</th>\n",
       "      <td>800</td>\n",
       "      <td>0.0</td>\n",
       "      <td>0.3048</td>\n",
       "      <td>71.3</td>\n",
       "      <td>0.002663</td>\n",
       "      <td>126.201</td>\n",
       "    </tr>\n",
       "    <tr>\n",
       "      <th>1</th>\n",
       "      <td>1000</td>\n",
       "      <td>0.0</td>\n",
       "      <td>0.3048</td>\n",
       "      <td>71.3</td>\n",
       "      <td>0.002663</td>\n",
       "      <td>125.201</td>\n",
       "    </tr>\n",
       "    <tr>\n",
       "      <th>2</th>\n",
       "      <td>1250</td>\n",
       "      <td>0.0</td>\n",
       "      <td>0.3048</td>\n",
       "      <td>71.3</td>\n",
       "      <td>0.002663</td>\n",
       "      <td>125.951</td>\n",
       "    </tr>\n",
       "    <tr>\n",
       "      <th>3</th>\n",
       "      <td>1600</td>\n",
       "      <td>0.0</td>\n",
       "      <td>0.3048</td>\n",
       "      <td>71.3</td>\n",
       "      <td>0.002663</td>\n",
       "      <td>127.591</td>\n",
       "    </tr>\n",
       "    <tr>\n",
       "      <th>4</th>\n",
       "      <td>2000</td>\n",
       "      <td>0.0</td>\n",
       "      <td>0.3048</td>\n",
       "      <td>71.3</td>\n",
       "      <td>0.002663</td>\n",
       "      <td>127.461</td>\n",
       "    </tr>\n",
       "    <tr>\n",
       "      <th>...</th>\n",
       "      <td>...</td>\n",
       "      <td>...</td>\n",
       "      <td>...</td>\n",
       "      <td>...</td>\n",
       "      <td>...</td>\n",
       "      <td>...</td>\n",
       "    </tr>\n",
       "    <tr>\n",
       "      <th>1498</th>\n",
       "      <td>2500</td>\n",
       "      <td>15.6</td>\n",
       "      <td>0.1016</td>\n",
       "      <td>39.6</td>\n",
       "      <td>0.052849</td>\n",
       "      <td>110.264</td>\n",
       "    </tr>\n",
       "    <tr>\n",
       "      <th>1499</th>\n",
       "      <td>3150</td>\n",
       "      <td>15.6</td>\n",
       "      <td>0.1016</td>\n",
       "      <td>39.6</td>\n",
       "      <td>0.052849</td>\n",
       "      <td>109.254</td>\n",
       "    </tr>\n",
       "    <tr>\n",
       "      <th>1500</th>\n",
       "      <td>4000</td>\n",
       "      <td>15.6</td>\n",
       "      <td>0.1016</td>\n",
       "      <td>39.6</td>\n",
       "      <td>0.052849</td>\n",
       "      <td>106.604</td>\n",
       "    </tr>\n",
       "    <tr>\n",
       "      <th>1501</th>\n",
       "      <td>5000</td>\n",
       "      <td>15.6</td>\n",
       "      <td>0.1016</td>\n",
       "      <td>39.6</td>\n",
       "      <td>0.052849</td>\n",
       "      <td>106.224</td>\n",
       "    </tr>\n",
       "    <tr>\n",
       "      <th>1502</th>\n",
       "      <td>6300</td>\n",
       "      <td>15.6</td>\n",
       "      <td>0.1016</td>\n",
       "      <td>39.6</td>\n",
       "      <td>0.052849</td>\n",
       "      <td>104.204</td>\n",
       "    </tr>\n",
       "  </tbody>\n",
       "</table>\n",
       "<p>1503 rows × 6 columns</p>\n",
       "</div>"
      ],
      "text/plain": [
       "         0     1       2     3         4        5\n",
       "0      800   0.0  0.3048  71.3  0.002663  126.201\n",
       "1     1000   0.0  0.3048  71.3  0.002663  125.201\n",
       "2     1250   0.0  0.3048  71.3  0.002663  125.951\n",
       "3     1600   0.0  0.3048  71.3  0.002663  127.591\n",
       "4     2000   0.0  0.3048  71.3  0.002663  127.461\n",
       "...    ...   ...     ...   ...       ...      ...\n",
       "1498  2500  15.6  0.1016  39.6  0.052849  110.264\n",
       "1499  3150  15.6  0.1016  39.6  0.052849  109.254\n",
       "1500  4000  15.6  0.1016  39.6  0.052849  106.604\n",
       "1501  5000  15.6  0.1016  39.6  0.052849  106.224\n",
       "1502  6300  15.6  0.1016  39.6  0.052849  104.204\n",
       "\n",
       "[1503 rows x 6 columns]"
      ]
     },
     "execution_count": 19,
     "metadata": {},
     "output_type": "execute_result"
    }
   ],
   "source": [
    "df"
   ]
  },
  {
   "cell_type": "code",
   "execution_count": 20,
   "id": "31e968fe",
   "metadata": {},
   "outputs": [],
   "source": [
    "df.columns=[\"Frequency\",\"Angle of attack\",\"chord length\",\"Free-stream velocity\",\"suction side\",\"pressure level\"]"
   ]
  },
  {
   "cell_type": "code",
   "execution_count": 21,
   "id": "06104020",
   "metadata": {},
   "outputs": [
    {
     "data": {
      "text/html": [
       "<div>\n",
       "<style scoped>\n",
       "    .dataframe tbody tr th:only-of-type {\n",
       "        vertical-align: middle;\n",
       "    }\n",
       "\n",
       "    .dataframe tbody tr th {\n",
       "        vertical-align: top;\n",
       "    }\n",
       "\n",
       "    .dataframe thead th {\n",
       "        text-align: right;\n",
       "    }\n",
       "</style>\n",
       "<table border=\"1\" class=\"dataframe\">\n",
       "  <thead>\n",
       "    <tr style=\"text-align: right;\">\n",
       "      <th></th>\n",
       "      <th>Frequency</th>\n",
       "      <th>Angle of attack</th>\n",
       "      <th>chord length</th>\n",
       "      <th>Free-stream velocity</th>\n",
       "      <th>suction side</th>\n",
       "      <th>pressure level</th>\n",
       "    </tr>\n",
       "  </thead>\n",
       "  <tbody>\n",
       "    <tr>\n",
       "      <th>0</th>\n",
       "      <td>800</td>\n",
       "      <td>0.0</td>\n",
       "      <td>0.3048</td>\n",
       "      <td>71.3</td>\n",
       "      <td>0.002663</td>\n",
       "      <td>126.201</td>\n",
       "    </tr>\n",
       "    <tr>\n",
       "      <th>1</th>\n",
       "      <td>1000</td>\n",
       "      <td>0.0</td>\n",
       "      <td>0.3048</td>\n",
       "      <td>71.3</td>\n",
       "      <td>0.002663</td>\n",
       "      <td>125.201</td>\n",
       "    </tr>\n",
       "    <tr>\n",
       "      <th>2</th>\n",
       "      <td>1250</td>\n",
       "      <td>0.0</td>\n",
       "      <td>0.3048</td>\n",
       "      <td>71.3</td>\n",
       "      <td>0.002663</td>\n",
       "      <td>125.951</td>\n",
       "    </tr>\n",
       "    <tr>\n",
       "      <th>3</th>\n",
       "      <td>1600</td>\n",
       "      <td>0.0</td>\n",
       "      <td>0.3048</td>\n",
       "      <td>71.3</td>\n",
       "      <td>0.002663</td>\n",
       "      <td>127.591</td>\n",
       "    </tr>\n",
       "    <tr>\n",
       "      <th>4</th>\n",
       "      <td>2000</td>\n",
       "      <td>0.0</td>\n",
       "      <td>0.3048</td>\n",
       "      <td>71.3</td>\n",
       "      <td>0.002663</td>\n",
       "      <td>127.461</td>\n",
       "    </tr>\n",
       "    <tr>\n",
       "      <th>...</th>\n",
       "      <td>...</td>\n",
       "      <td>...</td>\n",
       "      <td>...</td>\n",
       "      <td>...</td>\n",
       "      <td>...</td>\n",
       "      <td>...</td>\n",
       "    </tr>\n",
       "    <tr>\n",
       "      <th>1498</th>\n",
       "      <td>2500</td>\n",
       "      <td>15.6</td>\n",
       "      <td>0.1016</td>\n",
       "      <td>39.6</td>\n",
       "      <td>0.052849</td>\n",
       "      <td>110.264</td>\n",
       "    </tr>\n",
       "    <tr>\n",
       "      <th>1499</th>\n",
       "      <td>3150</td>\n",
       "      <td>15.6</td>\n",
       "      <td>0.1016</td>\n",
       "      <td>39.6</td>\n",
       "      <td>0.052849</td>\n",
       "      <td>109.254</td>\n",
       "    </tr>\n",
       "    <tr>\n",
       "      <th>1500</th>\n",
       "      <td>4000</td>\n",
       "      <td>15.6</td>\n",
       "      <td>0.1016</td>\n",
       "      <td>39.6</td>\n",
       "      <td>0.052849</td>\n",
       "      <td>106.604</td>\n",
       "    </tr>\n",
       "    <tr>\n",
       "      <th>1501</th>\n",
       "      <td>5000</td>\n",
       "      <td>15.6</td>\n",
       "      <td>0.1016</td>\n",
       "      <td>39.6</td>\n",
       "      <td>0.052849</td>\n",
       "      <td>106.224</td>\n",
       "    </tr>\n",
       "    <tr>\n",
       "      <th>1502</th>\n",
       "      <td>6300</td>\n",
       "      <td>15.6</td>\n",
       "      <td>0.1016</td>\n",
       "      <td>39.6</td>\n",
       "      <td>0.052849</td>\n",
       "      <td>104.204</td>\n",
       "    </tr>\n",
       "  </tbody>\n",
       "</table>\n",
       "<p>1503 rows × 6 columns</p>\n",
       "</div>"
      ],
      "text/plain": [
       "      Frequency  Angle of attack  chord length  Free-stream velocity  \\\n",
       "0           800              0.0        0.3048                  71.3   \n",
       "1          1000              0.0        0.3048                  71.3   \n",
       "2          1250              0.0        0.3048                  71.3   \n",
       "3          1600              0.0        0.3048                  71.3   \n",
       "4          2000              0.0        0.3048                  71.3   \n",
       "...         ...              ...           ...                   ...   \n",
       "1498       2500             15.6        0.1016                  39.6   \n",
       "1499       3150             15.6        0.1016                  39.6   \n",
       "1500       4000             15.6        0.1016                  39.6   \n",
       "1501       5000             15.6        0.1016                  39.6   \n",
       "1502       6300             15.6        0.1016                  39.6   \n",
       "\n",
       "      suction side  pressure level  \n",
       "0         0.002663         126.201  \n",
       "1         0.002663         125.201  \n",
       "2         0.002663         125.951  \n",
       "3         0.002663         127.591  \n",
       "4         0.002663         127.461  \n",
       "...            ...             ...  \n",
       "1498      0.052849         110.264  \n",
       "1499      0.052849         109.254  \n",
       "1500      0.052849         106.604  \n",
       "1501      0.052849         106.224  \n",
       "1502      0.052849         104.204  \n",
       "\n",
       "[1503 rows x 6 columns]"
      ]
     },
     "execution_count": 21,
     "metadata": {},
     "output_type": "execute_result"
    }
   ],
   "source": [
    "df"
   ]
  },
  {
   "cell_type": "code",
   "execution_count": 22,
   "id": "a5974874",
   "metadata": {},
   "outputs": [
    {
     "data": {
      "text/plain": [
       "Frequency               0\n",
       "Angle of attack         0\n",
       "chord length            0\n",
       "Free-stream velocity    0\n",
       "suction side            0\n",
       "pressure level          0\n",
       "dtype: int64"
      ]
     },
     "execution_count": 22,
     "metadata": {},
     "output_type": "execute_result"
    }
   ],
   "source": [
    "## Train Test split\n",
    "df.isnull().sum()"
   ]
  },
  {
   "cell_type": "code",
   "execution_count": 23,
   "id": "f0cb596f",
   "metadata": {},
   "outputs": [],
   "source": [
    "X=df.iloc[:,:-1]\n",
    "y=df.iloc[:,-1]"
   ]
  },
  {
   "cell_type": "code",
   "execution_count": 24,
   "id": "464f7dc4",
   "metadata": {},
   "outputs": [],
   "source": [
    "X_train, X_test, y_train, y_test = train_test_split(X, y, test_size=0.33, random_state=42)"
   ]
  },
  {
   "cell_type": "code",
   "execution_count": 25,
   "id": "1f52672b",
   "metadata": {},
   "outputs": [],
   "source": [
    "## EDA"
   ]
  },
  {
   "cell_type": "code",
   "execution_count": 26,
   "id": "6d3351a9",
   "metadata": {},
   "outputs": [],
   "source": [
    "import seaborn as sns \n"
   ]
  },
  {
   "cell_type": "code",
   "execution_count": 27,
   "id": "8361f9b2",
   "metadata": {},
   "outputs": [
    {
     "data": {
      "text/plain": [
       "<seaborn.axisgrid.PairGrid at 0x21c537f6070>"
      ]
     },
     "execution_count": 27,
     "metadata": {},
     "output_type": "execute_result"
    }
   ],
   "source": [
    "sns.pairplot(X_train)"
   ]
  },
  {
   "cell_type": "code",
   "execution_count": 28,
   "id": "3a6fe5a0",
   "metadata": {},
   "outputs": [],
   "source": [
    "import matplotlib.pyplot as plt "
   ]
  },
  {
   "cell_type": "code",
   "execution_count": 29,
   "id": "7f18c973",
   "metadata": {},
   "outputs": [
    {
     "data": {
      "text/html": [
       "<div>\n",
       "<style scoped>\n",
       "    .dataframe tbody tr th:only-of-type {\n",
       "        vertical-align: middle;\n",
       "    }\n",
       "\n",
       "    .dataframe tbody tr th {\n",
       "        vertical-align: top;\n",
       "    }\n",
       "\n",
       "    .dataframe thead th {\n",
       "        text-align: right;\n",
       "    }\n",
       "</style>\n",
       "<table border=\"1\" class=\"dataframe\">\n",
       "  <thead>\n",
       "    <tr style=\"text-align: right;\">\n",
       "      <th></th>\n",
       "      <th>Frequency</th>\n",
       "      <th>Angle of attack</th>\n",
       "      <th>chord length</th>\n",
       "      <th>Free-stream velocity</th>\n",
       "      <th>suction side</th>\n",
       "    </tr>\n",
       "  </thead>\n",
       "  <tbody>\n",
       "    <tr>\n",
       "      <th>Frequency</th>\n",
       "      <td>1.000000</td>\n",
       "      <td>-0.273327</td>\n",
       "      <td>-0.000324</td>\n",
       "      <td>0.125247</td>\n",
       "      <td>-0.239878</td>\n",
       "    </tr>\n",
       "    <tr>\n",
       "      <th>Angle of attack</th>\n",
       "      <td>-0.273327</td>\n",
       "      <td>1.000000</td>\n",
       "      <td>-0.498257</td>\n",
       "      <td>0.058603</td>\n",
       "      <td>0.762567</td>\n",
       "    </tr>\n",
       "    <tr>\n",
       "      <th>chord length</th>\n",
       "      <td>-0.000324</td>\n",
       "      <td>-0.498257</td>\n",
       "      <td>1.000000</td>\n",
       "      <td>0.013061</td>\n",
       "      <td>-0.220849</td>\n",
       "    </tr>\n",
       "    <tr>\n",
       "      <th>Free-stream velocity</th>\n",
       "      <td>0.125247</td>\n",
       "      <td>0.058603</td>\n",
       "      <td>0.013061</td>\n",
       "      <td>1.000000</td>\n",
       "      <td>-0.000519</td>\n",
       "    </tr>\n",
       "    <tr>\n",
       "      <th>suction side</th>\n",
       "      <td>-0.239878</td>\n",
       "      <td>0.762567</td>\n",
       "      <td>-0.220849</td>\n",
       "      <td>-0.000519</td>\n",
       "      <td>1.000000</td>\n",
       "    </tr>\n",
       "  </tbody>\n",
       "</table>\n",
       "</div>"
      ],
      "text/plain": [
       "                      Frequency  Angle of attack  chord length  \\\n",
       "Frequency              1.000000        -0.273327     -0.000324   \n",
       "Angle of attack       -0.273327         1.000000     -0.498257   \n",
       "chord length          -0.000324        -0.498257      1.000000   \n",
       "Free-stream velocity   0.125247         0.058603      0.013061   \n",
       "suction side          -0.239878         0.762567     -0.220849   \n",
       "\n",
       "                      Free-stream velocity  suction side  \n",
       "Frequency                         0.125247     -0.239878  \n",
       "Angle of attack                   0.058603      0.762567  \n",
       "chord length                      0.013061     -0.220849  \n",
       "Free-stream velocity              1.000000     -0.000519  \n",
       "suction side                     -0.000519      1.000000  "
      ]
     },
     "execution_count": 29,
     "metadata": {},
     "output_type": "execute_result"
    }
   ],
   "source": [
    "X_train.corr()"
   ]
  },
  {
   "cell_type": "code",
   "execution_count": 30,
   "id": "b6297b9d",
   "metadata": {},
   "outputs": [
    {
     "name": "stderr",
     "output_type": "stream",
     "text": [
      "C:\\Users\\pouru\\anaconda3\\lib\\site-packages\\seaborn\\_decorators.py:36: FutureWarning: Pass the following variable as a keyword arg: x. From version 0.12, the only valid positional argument will be `data`, and passing other arguments without an explicit keyword will result in an error or misinterpretation.\n",
      "  warnings.warn(\n"
     ]
    },
    {
     "data": {
      "text/plain": [
       "<AxesSubplot:xlabel='Frequency', ylabel='Count'>"
      ]
     },
     "execution_count": 30,
     "metadata": {},
     "output_type": "execute_result"
    }
   ],
   "source": [
    "sns.boxplot(X_train[\"Frequency\"])"
   ]
  },
  {
   "cell_type": "code",
   "execution_count": 32,
   "id": "b52ac8ab",
   "metadata": {},
   "outputs": [
    {
     "name": "stderr",
     "output_type": "stream",
     "text": [
      "C:\\Users\\pouru\\anaconda3\\lib\\site-packages\\seaborn\\_decorators.py:36: FutureWarning: Pass the following variables as keyword args: x, y. From version 0.12, the only valid positional argument will be `data`, and passing other arguments without an explicit keyword will result in an error or misinterpretation.\n",
      "  warnings.warn(\n"
     ]
    },
    {
     "data": {
      "text/plain": [
       "<AxesSubplot:xlabel='Frequency', ylabel='Count'>"
      ]
     },
     "execution_count": 32,
     "metadata": {},
     "output_type": "execute_result"
    }
   ],
   "source": [
    "sns.scatterplot(X_train['Frequency'],X_train['suction side'])"
   ]
  },
  {
   "cell_type": "code",
   "execution_count": 33,
   "id": "ed1065b9",
   "metadata": {},
   "outputs": [
    {
     "data": {
      "text/plain": [
       "LinearRegression()"
      ]
     },
     "execution_count": 33,
     "metadata": {},
     "output_type": "execute_result"
    }
   ],
   "source": [
    "from sklearn.linear_model import LinearRegression\n",
    "regressor = LinearRegression()\n",
    "regressor.fit(X_train,y_train)"
   ]
  },
  {
   "cell_type": "code",
   "execution_count": 39,
   "id": "57858905",
   "metadata": {},
   "outputs": [
    {
     "data": {
      "text/plain": [
       "132.47483241933395"
      ]
     },
     "execution_count": 39,
     "metadata": {},
     "output_type": "execute_result"
    }
   ],
   "source": [
    "regressor.intercept_"
   ]
  },
  {
   "cell_type": "code",
   "execution_count": 40,
   "id": "4070dd27",
   "metadata": {},
   "outputs": [
    {
     "data": {
      "text/plain": [
       "array([-1.27532160e-03, -3.78159403e-01, -3.47543758e+01,  1.00771473e-01,\n",
       "       -1.50435182e+02])"
      ]
     },
     "execution_count": 40,
     "metadata": {},
     "output_type": "execute_result"
    }
   ],
   "source": [
    "regressor.coef_"
   ]
  },
  {
   "cell_type": "code",
   "execution_count": 42,
   "id": "0e9da389",
   "metadata": {},
   "outputs": [
    {
     "data": {
      "text/plain": [
       "0.5124474986138432"
      ]
     },
     "execution_count": 42,
     "metadata": {},
     "output_type": "execute_result"
    }
   ],
   "source": [
    "regressor.score(X_test,y_test)"
   ]
  },
  {
   "cell_type": "code",
   "execution_count": null,
   "id": "e366c670",
   "metadata": {},
   "outputs": [],
   "source": []
  },
  {
   "cell_type": "code",
   "execution_count": null,
   "id": "1a1f3c42",
   "metadata": {},
   "outputs": [],
   "source": []
  },
  {
   "cell_type": "code",
   "execution_count": 34,
   "id": "47b6b9f7",
   "metadata": {},
   "outputs": [],
   "source": [
    "import pickle\n",
    "pickle.dump( regressor, open( \"model.pkl\", \"wb\" ) )"
   ]
  },
  {
   "cell_type": "code",
   "execution_count": 37,
   "id": "d10b9efe",
   "metadata": {},
   "outputs": [
    {
     "data": {
      "text/plain": [
       "array([124.06768512, 119.59316737, 120.29933092, 129.61912851,\n",
       "       129.81089779, 132.61068301, 122.44438053, 126.7461602 ,\n",
       "       129.99906397, 125.94601069, 132.50626617, 113.78942913,\n",
       "       130.10151743, 132.51123677, 123.6412694 , 114.10666435,\n",
       "       124.31679905, 126.6766228 , 129.24252599, 131.79580713,\n",
       "       125.77675782, 125.02970619, 116.44955941, 129.88018679,\n",
       "       124.2232864 , 124.67967727, 131.60657138, 124.57186337,\n",
       "       115.76458243, 123.39652912, 125.13674229, 123.92018299,\n",
       "       125.4841971 , 118.61796101, 121.70395495, 130.95730463,\n",
       "       131.39243856, 128.29169206, 121.31077749, 117.99901537,\n",
       "       126.41139865, 128.86175217, 126.44075781, 123.46463781,\n",
       "       123.08590861, 130.13707376, 125.11244177, 120.01115538,\n",
       "       123.19344296, 132.81698484, 128.72414835, 117.7903339 ,\n",
       "       123.4283675 , 122.57110308, 126.71758509, 120.44811529,\n",
       "       123.29741941, 128.68403927, 124.25898336, 123.22309466,\n",
       "       125.44226349, 131.08621938, 126.73671008, 131.37055859,\n",
       "       120.03133401, 122.99875849, 126.51722526, 122.76134003,\n",
       "       130.07459161, 126.8638411 , 129.03744516, 131.74107321,\n",
       "       126.43939179, 118.61841574, 132.540228  , 127.04074559,\n",
       "       123.58354972, 129.27712377, 131.50090249, 125.31559274,\n",
       "       122.69944485, 119.17279369, 125.15062801, 124.92380917,\n",
       "       122.46541323, 117.80942608, 111.82459777, 130.03809662,\n",
       "       119.34929493, 122.75349356, 119.28272205, 127.71038686,\n",
       "       123.20957349, 129.61821695, 117.62480397, 122.04267784,\n",
       "       116.56980888, 118.24840471, 131.12005135, 126.13472087,\n",
       "       128.32740102, 114.81071137, 125.59240048, 121.87444921,\n",
       "       124.50853062, 121.73946412, 117.37116626, 121.38950976,\n",
       "       128.07494391, 126.75822158, 121.9473756 , 130.39058684,\n",
       "       123.57901498, 129.45046494, 123.34036966, 127.40497978,\n",
       "       120.71407613, 116.09255864, 126.78001924, 119.59054722,\n",
       "       124.63907276, 129.27290366, 131.23600726, 125.38768472,\n",
       "       117.22876548, 125.03783454, 122.88212284, 121.29472019,\n",
       "       127.78060658, 113.59962982, 127.89518931, 128.25716734,\n",
       "       112.05138671, 120.78333989, 127.3143531 , 122.64919011,\n",
       "       126.24520939, 118.12482823, 124.17066122, 127.94569228,\n",
       "       129.14013602, 128.00555065, 122.07498755, 129.06663574,\n",
       "       126.51796117, 126.21213183, 128.41880749, 129.85778694,\n",
       "       131.28567849, 126.22258712, 125.49964813, 130.40891634,\n",
       "       117.89255302, 127.20383409, 122.21339606, 131.70008186,\n",
       "       125.25400255, 127.45523732, 130.68227453, 124.77706196,\n",
       "       126.37870966, 119.02908434, 124.1354628 , 123.13114077,\n",
       "       120.10067586, 123.6473158 , 126.01646168, 122.19049689,\n",
       "       122.67932019, 126.45473041, 125.57022744, 123.99796865,\n",
       "       125.9248514 , 126.56822046, 121.82253617, 119.14174787,\n",
       "       123.48187328, 121.19145276, 123.34969111, 120.38386676,\n",
       "       130.28069521, 117.29806246, 115.68517606, 127.33520086,\n",
       "       121.79508089, 124.8955637 , 116.08603297, 130.31830035,\n",
       "       116.17613687, 121.96719892, 124.92154028, 119.06937482,\n",
       "       118.0644904 , 123.40546826, 127.83994364, 129.87193779,\n",
       "       123.10682743, 125.21108935, 127.87457086, 121.56517658,\n",
       "       122.30822812, 123.08204133, 127.60198453, 126.90250189,\n",
       "       121.82752657, 124.87140607, 123.86142069, 131.92939592,\n",
       "       127.37527479, 122.507337  , 125.14767538, 130.91555179,\n",
       "       116.54328768, 131.36344733, 124.76403925, 124.67320909,\n",
       "       126.67702165, 132.43110139, 128.42897495, 117.17005633,\n",
       "       134.59461818, 115.45101784, 125.6486924 , 126.925435  ,\n",
       "       122.05744144, 127.52656072, 127.33571009, 129.71463525,\n",
       "       125.08686193, 122.98366176, 126.35649528, 131.53211091,\n",
       "       121.35991673, 121.35173693, 120.73589987, 127.03003405,\n",
       "       131.73296148, 129.36180915, 126.07159861, 117.36548797,\n",
       "       114.93349444, 131.74030569, 118.31278883, 122.55274486,\n",
       "       131.14028063, 126.48833068, 125.68703351, 123.39225148,\n",
       "       120.86030206, 127.46101509, 117.34309414, 112.51560646,\n",
       "       109.73192819, 126.8411181 , 132.17024274, 126.21635193,\n",
       "       123.26471932, 116.81344025, 124.35185869, 121.11506554,\n",
       "       127.47445237, 126.6652314 , 125.27416789, 129.70574   ,\n",
       "       128.51422781, 120.86586882, 130.86671039, 126.33759535,\n",
       "       127.73728226, 124.90670396, 128.20413456, 122.89533962,\n",
       "       122.02717056, 130.69740905, 124.42572554, 131.81108113,\n",
       "       133.93456108, 125.60861128, 126.52228709, 120.55379196,\n",
       "       125.98603707, 124.47680279, 127.22385229, 125.92932777,\n",
       "       134.28360468, 126.29442517, 129.02146938, 121.18996503,\n",
       "       129.23676931, 124.20501438, 121.31774928, 133.1978456 ,\n",
       "       125.75723245, 114.5385673 , 122.51163055, 127.09185589,\n",
       "       129.14155753, 119.50172375, 131.91075074, 118.31165502,\n",
       "       130.1074663 , 132.64588019, 130.32496922, 123.83559544,\n",
       "       129.26436685, 129.98981066, 119.91852343, 118.57461904,\n",
       "       132.82748768, 131.55601681, 125.34105833, 130.91169192,\n",
       "       126.0404394 , 123.09892752, 119.6343304 , 130.91421372,\n",
       "       128.81407537, 124.09485013, 128.31040516, 124.1412396 ,\n",
       "       130.24487498, 127.91213288, 128.03668935, 120.72665977,\n",
       "       130.73855433, 118.28129507, 125.65747063, 123.12099102,\n",
       "       118.36132702, 126.34418494, 125.7702812 , 118.55030704,\n",
       "       131.43888175, 128.182873  , 124.60301015, 124.87833136,\n",
       "       132.03678829, 126.5450107 , 125.02166924, 126.35658627,\n",
       "       133.39601575, 123.16880452, 127.79328277, 127.69062796,\n",
       "       120.0775871 , 128.02406495, 130.41687913, 126.0062157 ,\n",
       "       123.07040249, 125.8030275 , 124.91174089, 125.00396603,\n",
       "       129.56707527, 126.58949282, 133.10560204, 126.05809182,\n",
       "       130.26542121, 119.30517597, 124.80185458, 123.48703164,\n",
       "       120.46328944, 129.79838582, 120.30661982, 124.03666163,\n",
       "       123.67709424, 127.74614778, 122.62705852, 123.98735191,\n",
       "       123.91169041, 124.50605328, 124.32274944, 131.12177471,\n",
       "       115.11057474, 127.15365335, 120.78600773, 125.74408616,\n",
       "       130.83509785, 131.03061417, 122.46677436, 121.10095024,\n",
       "       126.41903568, 122.46737764, 124.36964909, 129.57005096,\n",
       "       127.84006149, 127.43728311, 130.03385303, 127.90909558,\n",
       "       125.14371408, 124.52914441, 125.04425651, 124.80170109,\n",
       "       131.28774098, 123.65989945, 133.6155142 , 127.37552688,\n",
       "       127.59364822, 131.33857938, 130.00771895, 131.66827497,\n",
       "       130.1811089 , 130.90071547, 128.17514334, 124.40646236,\n",
       "       120.01924509, 129.37276919, 124.49841625, 126.13269905,\n",
       "       125.789669  , 123.82806646, 123.55755648, 127.85477996,\n",
       "       130.09821299, 116.84648666, 122.12555013, 119.25725721,\n",
       "       130.29316094, 117.21516655, 126.271526  , 117.86673412,\n",
       "       132.98160016, 130.89353855, 125.70652414, 122.02271479,\n",
       "       121.30665561, 125.84645763, 121.44281263, 123.94399778,\n",
       "       117.96911609, 125.08199201, 125.89781336, 121.8861261 ,\n",
       "       118.77889492, 112.90611405, 121.58875796, 124.36742744,\n",
       "       126.61637993, 129.47446577, 125.03927304, 122.25767882,\n",
       "       118.77071528, 130.52174965, 134.14699122, 119.04382303,\n",
       "       127.22715362, 130.79082385, 122.77283067, 115.95747584,\n",
       "       130.67575742, 121.29456669, 123.85114879, 123.22375989,\n",
       "       129.68730842, 127.61291695, 128.90084394, 110.98739224,\n",
       "       123.8215601 , 119.24443769, 117.10676422, 124.50143622,\n",
       "       117.03990403, 118.46346734, 121.86977921, 127.11845271,\n",
       "       122.141558  , 118.37341593, 117.04423312, 124.81379   ,\n",
       "       119.87463112, 129.23387101, 123.97164389, 125.36750609,\n",
       "       118.3532373 , 123.35434112, 127.13843639, 125.78500279,\n",
       "       125.41472276, 130.19211167, 119.75811287, 125.3986529 ,\n",
       "       121.44135872, 121.50352962, 124.37154933, 126.54122609,\n",
       "       118.80109373, 114.31526933, 117.85713728, 132.75835495,\n",
       "       122.32081177, 126.29511271, 122.36109769, 133.30043056,\n",
       "       124.3798378 , 123.85183082, 136.18877018, 132.02510896])"
      ]
     },
     "execution_count": 37,
     "metadata": {},
     "output_type": "execute_result"
    }
   ],
   "source": [
    "pickle_model=pickle.load( open( \"model.pkl\", \"rb\" ) )\n",
    "pickle_model.predict(X_test)"
   ]
  },
  {
   "cell_type": "code",
   "execution_count": null,
   "id": "5d936b64",
   "metadata": {},
   "outputs": [],
   "source": []
  },
  {
   "cell_type": "code",
   "execution_count": null,
   "id": "3aae4100",
   "metadata": {},
   "outputs": [],
   "source": []
  },
  {
   "cell_type": "code",
   "execution_count": null,
   "id": "f1da96b1",
   "metadata": {},
   "outputs": [],
   "source": []
  },
  {
   "cell_type": "code",
   "execution_count": null,
   "id": "7d5c7827",
   "metadata": {},
   "outputs": [],
   "source": []
  }
 ],
 "metadata": {
  "kernelspec": {
   "display_name": "Python 3 (ipykernel)",
   "language": "python",
   "name": "python3"
  },
  "language_info": {
   "codemirror_mode": {
    "name": "ipython",
    "version": 3
   },
   "file_extension": ".py",
   "mimetype": "text/x-python",
   "name": "python",
   "nbconvert_exporter": "python",
   "pygments_lexer": "ipython3",
   "version": "3.9.13"
  }
 },
 "nbformat": 4,
 "nbformat_minor": 5
}
